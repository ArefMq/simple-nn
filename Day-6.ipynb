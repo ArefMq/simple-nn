{
 "cells": [
  {
   "cell_type": "markdown",
   "metadata": {},
   "source": [
    "# Day 6\n",
    "\n",
    "## CNN for solving CIFAR-10\n",
    "\n",
    "In this section, we try to solve the CIFAR-10 via CNN. This dataset consists of 10 classes as below:\n",
    "\n",
    "- airplane\n",
    "- automobile\n",
    "- bird\n",
    "- cat\n",
    "- deer\n",
    "- dog\n",
    "- frog\n",
    "- horse\n",
    "- ship\n",
    "- truck"
   ]
  },
  {
   "cell_type": "code",
   "execution_count": 1,
   "metadata": {},
   "outputs": [
    {
     "name": "stderr",
     "output_type": "stream",
     "text": [
      "Using TensorFlow backend.\n"
     ]
    }
   ],
   "source": [
    "import tensorflow as tf\n",
    "import numpy as np\n",
    "import matplotlib.pyplot as plt\n",
    "\n",
    "import keras\n",
    "from keras.models import Sequential\n",
    "from keras.layers import Dense, Dropout, Activation, Flatten\n",
    "from keras.layers import Conv2D, MaxPooling2D\n",
    "\n",
    "from random import randint"
   ]
  },
  {
   "cell_type": "code",
   "execution_count": 2,
   "metadata": {},
   "outputs": [
    {
     "name": "stdout",
     "output_type": "stream",
     "text": [
      "x_train.shape = (50000, 32, 32, 3)\n",
      "x_test.shape  = (10000, 32, 32, 3)\n"
     ]
    }
   ],
   "source": [
    "\n",
    "dataset = keras.datasets.cifar10\n",
    "(x_train, y_train), (x_test, y_test) = dataset.load_data()\n",
    "\n",
    "x_train = x_train / 255.0\n",
    "x_test = x_test / 255.0\n",
    "\n",
    "\n",
    "print \"x_train.shape =\", x_train.shape\n",
    "print \"x_test.shape  =\", x_test.shape\n"
   ]
  },
  {
   "cell_type": "code",
   "execution_count": 3,
   "metadata": {},
   "outputs": [
    {
     "data": {
      "image/png": "[encoded data removed]",
      "text/plain": [
       "<Figure size 432x288 with 1 Axes>"
      ]
     },
     "metadata": {
      "needs_background": "light"
     },
     "output_type": "display_data"
    }
   ],
   "source": [
    "def get_label_name(y):\n",
    "    class_names = ['airplane', 'automobile', 'bird', 'cat', 'deer',\n",
    "                   'dog', 'frog', 'horse', 'ship', 'truck']\n",
    "    return class_names[int(y)]\n",
    "\n",
    "rnd_index = randint(0, x_train.shape[0]-1)\n",
    "plt.imshow(x_train[rnd_index])\n",
    "plt.title(get_label_name(y_train[rnd_index]))\n",
    "plt.show()"
   ]
  },
  {
   "cell_type": "markdown",
   "metadata": {},
   "source": [
    "We have used a convolutional structure with two sets of convolutional layers each containing two Conv2D followed by a Maxx-Pooling layer. The kernel size of Conv layers are all 3x3 and the pooling layers have 2x2 kernel size. The activation function for all of the Conv layers is set to ReLU."
   ]
  },
  {
   "cell_type": "code",
   "execution_count": 4,
   "metadata": {
    "scrolled": true
   },
   "outputs": [
    {
     "name": "stdout",
     "output_type": "stream",
     "text": [
      "Training...\n",
      "Train on 50000 samples, validate on 10000 samples\n",
      "Epoch 1/40\n",
      "50000/50000 [==============================] - 304s 6ms/step - loss: 1.6938 - acc: 0.3772 - val_loss: 1.5675 - val_acc: 0.4980\n",
      "Epoch 2/40\n",
      "50000/50000 [==============================] - 319s 6ms/step - loss: 1.2629 - acc: 0.5489 - val_loss: 1.2831 - val_acc: 0.5810\n",
      "Epoch 3/40\n",
      "50000/50000 [==============================] - 289s 6ms/step - loss: 1.0724 - acc: 0.6206 - val_loss: 1.1331 - val_acc: 0.6394\n",
      "Epoch 4/40\n",
      "50000/50000 [==============================] - 291s 6ms/step - loss: 0.9486 - acc: 0.6666 - val_loss: 0.9984 - val_acc: 0.6769\n",
      "Epoch 5/40\n",
      "50000/50000 [==============================] - 288s 6ms/step - loss: 0.8425 - acc: 0.7025 - val_loss: 0.9394 - val_acc: 0.6973\n",
      "Epoch 6/40\n",
      "50000/50000 [==============================] - 287s 6ms/step - loss: 0.7549 - acc: 0.7353 - val_loss: 0.8302 - val_acc: 0.7361\n",
      "Epoch 7/40\n",
      "50000/50000 [==============================] - 288s 6ms/step - loss: 0.7023 - acc: 0.7528 - val_loss: 0.8379 - val_acc: 0.7292\n",
      "Epoch 8/40\n",
      "50000/50000 [==============================] - 288s 6ms/step - loss: 0.6454 - acc: 0.7724 - val_loss: 0.7660 - val_acc: 0.7485\n",
      "Epoch 9/40\n",
      "50000/50000 [==============================] - 289s 6ms/step - loss: 0.5974 - acc: 0.7887 - val_loss: 0.7639 - val_acc: 0.7466\n",
      "Epoch 10/40\n",
      "50000/50000 [==============================] - 292s 6ms/step - loss: 0.5461 - acc: 0.8091 - val_loss: 0.7287 - val_acc: 0.7547\n",
      "Epoch 11/40\n",
      "50000/50000 [==============================] - 246s 5ms/step - loss: 0.5055 - acc: 0.8207 - val_loss: 0.7065 - val_acc: 0.7677\n",
      "Epoch 12/40\n",
      "50000/50000 [==============================] - 179s 4ms/step - loss: 0.4747 - acc: 0.8293 - val_loss: 0.7123 - val_acc: 0.7639\n",
      "Epoch 13/40\n",
      "50000/50000 [==============================] - 181s 4ms/step - loss: 0.4480 - acc: 0.8386 - val_loss: 0.6943 - val_acc: 0.7684\n",
      "Epoch 14/40\n",
      "50000/50000 [==============================] - 178s 4ms/step - loss: 0.4171 - acc: 0.8501 - val_loss: 0.7500 - val_acc: 0.7483\n",
      "Epoch 15/40\n",
      "50000/50000 [==============================] - 178s 4ms/step - loss: 0.3897 - acc: 0.8608 - val_loss: 0.7098 - val_acc: 0.7595\n",
      "Epoch 16/40\n",
      "50000/50000 [==============================] - 179s 4ms/step - loss: 0.3748 - acc: 0.8649 - val_loss: 0.6855 - val_acc: 0.7700\n",
      "Epoch 17/40\n",
      "50000/50000 [==============================] - 178s 4ms/step - loss: 0.3532 - acc: 0.8740 - val_loss: 0.6890 - val_acc: 0.7679\n",
      "Epoch 18/40\n",
      "50000/50000 [==============================] - 179s 4ms/step - loss: 0.3387 - acc: 0.8798 - val_loss: 0.6955 - val_acc: 0.7678\n",
      "Epoch 19/40\n",
      "50000/50000 [==============================] - 179s 4ms/step - loss: 0.3263 - acc: 0.8844 - val_loss: 0.6799 - val_acc: 0.7751\n",
      "Epoch 20/40\n",
      "50000/50000 [==============================] - 178s 4ms/step - loss: 0.3098 - acc: 0.8903 - val_loss: 0.6872 - val_acc: 0.7696\n",
      "Epoch 21/40\n",
      "50000/50000 [==============================] - 178s 4ms/step - loss: 0.2991 - acc: 0.8946 - val_loss: 0.7172 - val_acc: 0.7631\n",
      "Epoch 22/40\n",
      "50000/50000 [==============================] - 178s 4ms/step - loss: 0.2817 - acc: 0.9002 - val_loss: 0.7012 - val_acc: 0.7651\n",
      "Epoch 23/40\n",
      "50000/50000 [==============================] - 178s 4ms/step - loss: 0.2752 - acc: 0.9018 - val_loss: 0.6814 - val_acc: 0.7733\n",
      "Epoch 24/40\n",
      "50000/50000 [==============================] - 178s 4ms/step - loss: 0.2739 - acc: 0.9019 - val_loss: 0.7457 - val_acc: 0.7581\n",
      "Epoch 25/40\n",
      "50000/50000 [==============================] - 178s 4ms/step - loss: 0.2571 - acc: 0.9087 - val_loss: 0.7397 - val_acc: 0.7582\n",
      "Epoch 26/40\n",
      "50000/50000 [==============================] - 178s 4ms/step - loss: 0.2570 - acc: 0.9097 - val_loss: 0.7152 - val_acc: 0.7613\n",
      "Epoch 27/40\n",
      "50000/50000 [==============================] - 178s 4ms/step - loss: 0.2497 - acc: 0.9126 - val_loss: 0.7255 - val_acc: 0.7610\n",
      "Epoch 28/40\n",
      "50000/50000 [==============================] - 178s 4ms/step - loss: 0.2397 - acc: 0.9174 - val_loss: 0.7013 - val_acc: 0.7714\n",
      "Epoch 29/40\n",
      "50000/50000 [==============================] - 178s 4ms/step - loss: 0.2356 - acc: 0.9171 - val_loss: 0.7246 - val_acc: 0.7672\n",
      "Epoch 30/40\n",
      "50000/50000 [==============================] - 178s 4ms/step - loss: 0.2234 - acc: 0.9227 - val_loss: 0.7740 - val_acc: 0.7508\n",
      "Epoch 31/40\n",
      "50000/50000 [==============================] - 178s 4ms/step - loss: 0.2292 - acc: 0.9196 - val_loss: 0.7363 - val_acc: 0.7660\n",
      "Epoch 32/40\n",
      "50000/50000 [==============================] - 175s 4ms/step - loss: 0.2188 - acc: 0.9230 - val_loss: 0.7249 - val_acc: 0.7668\n",
      "Epoch 33/40\n",
      "50000/50000 [==============================] - 179s 4ms/step - loss: 0.2202 - acc: 0.9224 - val_loss: 0.7214 - val_acc: 0.7741\n",
      "Epoch 34/40\n",
      "50000/50000 [==============================] - 179s 4ms/step - loss: 0.2126 - acc: 0.9264 - val_loss: 0.7598 - val_acc: 0.7695\n",
      "Epoch 35/40\n",
      "50000/50000 [==============================] - 178s 4ms/step - loss: 0.2102 - acc: 0.9266 - val_loss: 0.7318 - val_acc: 0.7689\n",
      "Epoch 36/40\n",
      "50000/50000 [==============================] - 180s 4ms/step - loss: 0.2087 - acc: 0.9279 - val_loss: 0.7244 - val_acc: 0.7739\n",
      "Epoch 37/40\n",
      "50000/50000 [==============================] - 179s 4ms/step - loss: 0.2014 - acc: 0.9302 - val_loss: 0.7762 - val_acc: 0.7650\n",
      "Epoch 38/40\n",
      "50000/50000 [==============================] - 179s 4ms/step - loss: 0.1952 - acc: 0.9317 - val_loss: 0.7654 - val_acc: 0.7642\n",
      "Epoch 39/40\n",
      "50000/50000 [==============================] - 179s 4ms/step - loss: 0.1928 - acc: 0.9326 - val_loss: 0.7557 - val_acc: 0.7665\n",
      "Epoch 40/40\n",
      "50000/50000 [==============================] - 180s 4ms/step - loss: 0.2017 - acc: 0.9307 - val_loss: 0.7908 - val_acc: 0.7583\n",
      "Training Finished!\n",
      "\n",
      "Train accuracy: 0.9831\n",
      "Test accuracy: 0.7583\n"
     ]
    }
   ],
   "source": [
    "model = Sequential()\n",
    "\n",
    "model.add(Conv2D(32, kernel_size=(3, 3), activation='relu', input_shape=(32, 32, 3)))\n",
    "model.add(Dropout(0.4))\n",
    "model.add(Conv2D(48, (3, 3), activation='relu'))\n",
    "model.add(Dropout(0.4))\n",
    "model.add(MaxPooling2D(pool_size=(2, 2)))\n",
    "\n",
    "model.add(Conv2D(64, (3, 3), activation='relu'))\n",
    "model.add(Dropout(0.3))\n",
    "model.add(Conv2D(128, (3, 3), activation='relu'))\n",
    "model.add(Dropout(0.3))\n",
    "model.add(MaxPooling2D(pool_size=(2, 2)))\n",
    "\n",
    "\n",
    "model.add(Flatten())\n",
    "model.add(Dense(512, activation='relu'))\n",
    "model.add(Dropout(0.25))\n",
    "model.add(Dense(10, activation='softmax'))\n",
    "\n",
    "\n",
    "print 'Training...'\n",
    "model.compile(optimizer='adam', loss='sparse_categorical_crossentropy', metrics=['accuracy'])\n",
    "history = model.fit(\n",
    "    x_train,\n",
    "    y_train, \n",
    "    epochs=40, \n",
    "    batch_size=128,\n",
    "#     verbose=0,\n",
    "    validation_data=(x_test, y_test)\n",
    ")\n",
    "print 'Training Finished!'\n",
    "\n",
    "train_loss, train_acc = model.evaluate(x_train,  y_train, verbose=0)\n",
    "test_loss, test_acc = model.evaluate(x_test,  y_test, verbose=0)\n",
    "\n",
    "print ''\n",
    "print 'Train accuracy:', train_acc\n",
    "print 'Test accuracy:', test_acc"
   ]
  },
  {
   "cell_type": "markdown",
   "metadata": {},
   "source": [
    "As it is showed above the Train accuracy of the network is 98% and the test accuracy of it is 75%. Below, the accuracy values and loss values of the network are plotted throughout the time. We have to note that, the reason to run the network only for 40 epochs is that after this number the network tends to start overfitting the loss value of the train set seemed to stop decreasing."
   ]
  },
  {
   "cell_type": "code",
   "execution_count": 5,
   "metadata": {},
   "outputs": [
    {
     "data": {
      "image/png": "[encoded data removed]",
      "text/plain": [
       "<Figure size 432x288 with 1 Axes>"
      ]
     },
     "metadata": {
      "needs_background": "light"
     },
     "output_type": "display_data"
    },
    {
     "data": {
      "image/png": "[encoded data removed]",
      "text/plain": [
       "<Figure size 432x288 with 1 Axes>"
      ]
     },
     "metadata": {
      "needs_background": "light"
     },
     "output_type": "display_data"
    }
   ],
   "source": [
    "%matplotlib inline\n",
    "\n",
    "# Plot training & validation accuracy values\n",
    "plt.plot(history.history['acc'])\n",
    "plt.plot(history.history['val_acc'])\n",
    "plt.title('Model accuracy')\n",
    "plt.ylabel('Accuracy')\n",
    "plt.xlabel('Epoch')\n",
    "plt.legend(['Train', 'Test'], loc='upper left')\n",
    "plt.show()\n",
    "\n",
    "# Plot training & validation loss values\n",
    "plt.plot(history.history['loss'])\n",
    "plt.plot(history.history['val_loss'])\n",
    "plt.title('Model loss')\n",
    "plt.ylabel('Loss')\n",
    "plt.xlabel('Epoch')\n",
    "plt.legend(['Train', 'Test'], loc='upper left')\n",
    "plt.show()\n"
   ]
  },
  {
   "cell_type": "code",
   "execution_count": null,
   "metadata": {},
   "outputs": [],
   "source": []
  }
 ],
 "metadata": {
  "kernelspec": {
   "display_name": "Python 2",
   "language": "python",
   "name": "python2"
  },
  "language_info": {
   "codemirror_mode": {
    "name": "ipython",
    "version": 2
   },
   "file_extension": ".py",
   "mimetype": "text/x-python",
   "name": "python",
   "nbconvert_exporter": "python",
   "pygments_lexer": "ipython2",
   "version": "2.7.16"
  }
 },
 "nbformat": 4,
 "nbformat_minor": 2
}
